{
 "cells": [
  {
   "cell_type": "code",
   "execution_count": 11,
   "metadata": {},
   "outputs": [],
   "source": [
    "import numpy as np\n",
    "import matplotlib.pyplot as plt"
   ]
  },
  {
   "cell_type": "markdown",
   "metadata": {},
   "source": [
    "By referencing the pytorch implementation:\n",
    "\n",
    "- For 'linear', we keep the same learning rate for the first <opt.niter> epochs and linearly decay the rate to zero over the next <opt.niter_decay> epochs.\n",
    "- --niter == 100 # of iter at starting learning rate \n",
    "- --niter_decay == 100  # of iter to linearly decay learning rate to zero\n",
    "- --lr_decay_iters is ignored"
   ]
  },
  {
   "cell_type": "code",
   "execution_count": 33,
   "metadata": {},
   "outputs": [],
   "source": [
    "def learning_rate_scheduler(epoch, niter, niter_decay):\n",
    "    niter = 100\n",
    "    niter_decay = 100\n",
    "    lr_mult = 1.0 - max(0, epoch + 1 - niter) / float(niter_decay + 1)\n",
    "    return lr_mult"
   ]
  },
  {
   "cell_type": "code",
   "execution_count": 34,
   "metadata": {},
   "outputs": [
    {
     "data": {
      "text/plain": [
       "Text(0, 0.5, 'lr_mult')"
      ]
     },
     "execution_count": 34,
     "metadata": {},
     "output_type": "execute_result"
    },
    {
     "data": {
      "image/png": "[encoded data removed]",
      "text/plain": [
       "<Figure size 432x288 with 1 Axes>"
      ]
     },
     "metadata": {
      "needs_background": "light"
     },
     "output_type": "display_data"
    }
   ],
   "source": [
    "epochs = list(range(200))\n",
    "lrs = [learning_rate_scheduler(e, 100, 100) for e in epochs]\n",
    "\n",
    "plt.plot(epochs, lrs)\n",
    "plt.xlabel('epoch')\n",
    "plt.ylabel('lr_mult')"
   ]
  },
  {
   "cell_type": "markdown",
   "metadata": {},
   "source": [
    "We can't use Keras' `LearningRateScheduler` callback because we're using the train_on_batch api which doesn't accept callbacks. Therefore we need class to return current learning rate so we can update it."
   ]
  },
  {
   "cell_type": "code",
   "execution_count": 60,
   "metadata": {},
   "outputs": [],
   "source": [
    "class LrSchedule():\n",
    "    \"\"\"\n",
    "    keep the same learning rate for the first <niter> epochs \n",
    "    and linearly decay the rate to zero over the next <niter_decay> epochs\n",
    "    \n",
    "    \n",
    "             | ________________\n",
    "             |                 \\\n",
    "             |                  \\\n",
    "          lr |                   \\\n",
    "             |                    \\\n",
    "             |--------------------------\n",
    "                       epochs\n",
    "\n",
    "    - init_lr: the initial learning rate\n",
    "    - decay_start: number of epochs before learning rate reduction begins\n",
    "    - decay_end: the epoch on which learning rate reaches zero\n",
    "    \n",
    "    \"\"\"\n",
    "    \n",
    "    def __init__(self, init_lr: float, decay_start: int, decay_end: int):\n",
    "        # linear so stepsize is constant\n",
    "        self.init_lr = init_lr\n",
    "        self.lr_step = init_lr / decay_end\n",
    "        self.decay_start = decay_start\n",
    "        \n",
    "\n",
    "    def update(self, epoch: int):\n",
    "        if epoch < self.decay_start:\n",
    "            return self.init_lr\n",
    "        else:\n",
    "            return self.init_lr - (self.lr_step * (epoch - self.decay_start))"
   ]
  },
  {
   "cell_type": "code",
   "execution_count": 61,
   "metadata": {},
   "outputs": [
    {
     "data": {
      "image/png": "[encoded data removed]",
      "text/plain": [
       "<Figure size 432x288 with 1 Axes>"
      ]
     },
     "metadata": {
      "needs_background": "light"
     },
     "output_type": "display_data"
    }
   ],
   "source": [
    "lr = 0.0002\n",
    "lr_decay_start = 100\n",
    "lr_decay_end = 100\n",
    "\n",
    "lr_schedule = LrSchedule(lr, lr_decay_start, lr_decay_end)\n",
    "\n",
    "lrs = []\n",
    "epochs = list(range(200))\n",
    "for e in epochs:\n",
    "    lr = lr_schedule.update(e)\n",
    "    lrs.append(lr)\n",
    "\n",
    "plt.plot(epochs, lrs)\n",
    "plt.xlabel('epoch')\n",
    "plt.ylabel('lr');"
   ]
  },
  {
   "cell_type": "code",
   "execution_count": null,
   "metadata": {},
   "outputs": [],
   "source": []
  }
 ],
 "metadata": {
  "kernelspec": {
   "display_name": "Python 3",
   "language": "python",
   "name": "python3"
  },
  "language_info": {
   "codemirror_mode": {
    "name": "ipython",
    "version": 3
   },
   "file_extension": ".py",
   "mimetype": "text/x-python",
   "name": "python",
   "nbconvert_exporter": "python",
   "pygments_lexer": "ipython3",
   "version": "3.6.8"
  }
 },
 "nbformat": 4,
 "nbformat_minor": 2
}
