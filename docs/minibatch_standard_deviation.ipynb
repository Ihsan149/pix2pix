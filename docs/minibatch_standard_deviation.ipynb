{
 "cells": [
  {
   "cell_type": "code",
   "execution_count": 1,
   "metadata": {},
   "outputs": [],
   "source": [
    "import numpy\n",
    "\n",
    "from model.data_loader import *"
   ]
  },
  {
   "cell_type": "code",
   "execution_count": 4,
   "metadata": {},
   "outputs": [],
   "source": [
    "train_pth = 'data/facades_processed/train'\n",
    "input_sz = (256, 256, 3)\n",
    "batch_size = 3"
   ]
  },
  {
   "cell_type": "code",
   "execution_count": 5,
   "metadata": {},
   "outputs": [],
   "source": [
    "train_generator = ImageDataGenerator(\n",
    "    rescale=1./255,\n",
    "    zoom_range=[0.895, 1.0],\n",
    "    horizontal_flip=True,\n",
    "    fill_mode='constant',\n",
    "    data_format='channels_last',\n",
    "    validation_split=0.0\n",
    ")\n",
    "train_loader = dataLoader(train_pth, train_generator, \n",
    "                          batch_sz=batch_size, img_sz=input_sz[:2])"
   ]
  },
  {
   "cell_type": "code",
   "execution_count": 9,
   "metadata": {},
   "outputs": [],
   "source": [
    "inputs, outputs = next(train_loader)"
   ]
  },
  {
   "cell_type": "code",
   "execution_count": 10,
   "metadata": {},
   "outputs": [
    {
     "data": {
      "text/plain": [
       "(3, 256, 256, 3)"
      ]
     },
     "execution_count": 10,
     "metadata": {},
     "output_type": "execute_result"
    }
   ],
   "source": [
    "inputs.shape"
   ]
  },
  {
   "cell_type": "code",
   "execution_count": 12,
   "metadata": {},
   "outputs": [
    {
     "data": {
      "text/plain": [
       "(256, 256, 3)"
      ]
     },
     "execution_count": 12,
     "metadata": {},
     "output_type": "execute_result"
    }
   ],
   "source": [
    "# We first compute the standard deviation for each feature in each spatial location over the minibatch.\n",
    "std = np.std(inputs, axis=0)\n",
    "std.shape"
   ]
  },
  {
   "cell_type": "code",
   "execution_count": 14,
   "metadata": {},
   "outputs": [
    {
     "data": {
      "text/plain": [
       "0.41226003"
      ]
     },
     "execution_count": 14,
     "metadata": {},
     "output_type": "execute_result"
    }
   ],
   "source": [
    "# We then average these estimates over all features and spatial locations to arrive at a single value\n",
    "mean = np.mean(std)\n",
    "mean"
   ]
  },
  {
   "cell_type": "code",
   "execution_count": 24,
   "metadata": {},
   "outputs": [
    {
     "data": {
      "text/plain": [
       "(3, 4, 4, 1)"
      ]
     },
     "execution_count": 24,
     "metadata": {},
     "output_type": "execute_result"
    }
   ],
   "source": [
    "# We replicate the value and concatenate it to all spatial locations and over the minibatch, \n",
    "# yielding one additional (constant) feature map.\n",
    "\n",
    "op_sz = (4, 4)\n",
    "op = np.ones((batch_size, op_sz[0], op_sz[1], 1)) * mean\n",
    "op.shape"
   ]
  },
  {
   "cell_type": "code",
   "execution_count": 25,
   "metadata": {},
   "outputs": [],
   "source": [
    "def minibatch_std(minibatch_inps, op_sz):\n",
    "    \"\"\"\n",
    "    A simplified alternative to minibatch discrimination\n",
    "    as described in section3 of:\n",
    "    https://arxiv.org/abs/1710.10196\n",
    "    \n",
    "    Generates a new feature which represents the mean of\n",
    "    standard deviation across samples in a minibatch. This\n",
    "    is then fed to latter layer of discriminator to increase\n",
    "    variation of GAN outputs and mitigate mode collapse.\n",
    "    \"\"\"\n",
    "    # We first compute the standard deviation for each feature \n",
    "    # in each spatial location over the minibatch.\n",
    "    std = np.std(minibatch_inps, axis=0)\n",
    "    # We then average these estimates over all features and \n",
    "    # spatial locations to arrive at a single value\n",
    "    mean = np.mean(std)\n",
    "    # We replicate the value and concatenate it to all spatial \n",
    "    #locations and over the minibatch, yielding one additional \n",
    "    # (constant) feature map.  \n",
    "    op = np.ones((batch_size, op_sz[0], op_sz[1], 1)) * mean\n",
    "    return op"
   ]
  },
  {
   "cell_type": "code",
   "execution_count": 29,
   "metadata": {},
   "outputs": [
    {
     "name": "stdout",
     "output_type": "stream",
     "text": [
      "shape:(3, 4, 4, 1)\n",
      "[[[[0.41226003]\n",
      "   [0.41226003]\n",
      "   [0.41226003]\n",
      "   [0.41226003]]\n",
      "\n",
      "  [[0.41226003]\n",
      "   [0.41226003]\n",
      "   [0.41226003]\n",
      "   [0.41226003]]\n",
      "\n",
      "  [[0.41226003]\n",
      "   [0.41226003]\n",
      "   [0.41226003]\n",
      "   [0.41226003]]\n",
      "\n",
      "  [[0.41226003]\n",
      "   [0.41226003]\n",
      "   [0.41226003]\n",
      "   [0.41226003]]]\n",
      "\n",
      "\n",
      " [[[0.41226003]\n",
      "   [0.41226003]\n",
      "   [0.41226003]\n",
      "   [0.41226003]]\n",
      "\n",
      "  [[0.41226003]\n",
      "   [0.41226003]\n",
      "   [0.41226003]\n",
      "   [0.41226003]]\n",
      "\n",
      "  [[0.41226003]\n",
      "   [0.41226003]\n",
      "   [0.41226003]\n",
      "   [0.41226003]]\n",
      "\n",
      "  [[0.41226003]\n",
      "   [0.41226003]\n",
      "   [0.41226003]\n",
      "   [0.41226003]]]\n",
      "\n",
      "\n",
      " [[[0.41226003]\n",
      "   [0.41226003]\n",
      "   [0.41226003]\n",
      "   [0.41226003]]\n",
      "\n",
      "  [[0.41226003]\n",
      "   [0.41226003]\n",
      "   [0.41226003]\n",
      "   [0.41226003]]\n",
      "\n",
      "  [[0.41226003]\n",
      "   [0.41226003]\n",
      "   [0.41226003]\n",
      "   [0.41226003]]\n",
      "\n",
      "  [[0.41226003]\n",
      "   [0.41226003]\n",
      "   [0.41226003]\n",
      "   [0.41226003]]]]\n"
     ]
    }
   ],
   "source": [
    "minibatch_std(inputs, op_sz)\n",
    "print(f'shape:{op.shape}')\n",
    "print(op)"
   ]
  },
  {
   "cell_type": "code",
   "execution_count": null,
   "metadata": {},
   "outputs": [],
   "source": []
  }
 ],
 "metadata": {
  "kernelspec": {
   "display_name": "Python 3",
   "language": "python",
   "name": "python3"
  },
  "language_info": {
   "codemirror_mode": {
    "name": "ipython",
    "version": 3
   },
   "file_extension": ".py",
   "mimetype": "text/x-python",
   "name": "python",
   "nbconvert_exporter": "python",
   "pygments_lexer": "ipython3",
   "version": "3.6.8"
  }
 },
 "nbformat": 4,
 "nbformat_minor": 2
}
