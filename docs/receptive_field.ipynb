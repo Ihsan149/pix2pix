{
 "cells": [
  {
   "cell_type": "markdown",
   "metadata": {},
   "source": [
    "## Theoretical Receptive Field Size calculator\n",
    "\n",
    "Inspired by: https://medium.com/mlreview/a-guide-to-receptive-field-arithmetic-for-convolutional-neural-networks-e0f514068807"
   ]
  },
  {
   "cell_type": "code",
   "execution_count": 88,
   "metadata": {},
   "outputs": [],
   "source": [
    "import numpy as np"
   ]
  },
  {
   "cell_type": "code",
   "execution_count": 89,
   "metadata": {},
   "outputs": [],
   "source": [
    "def jump_n(jump_prev, stride):\n",
    "    return jump_prev * stride\n",
    "\n",
    "def receptive_field_size(rf_prev, kernel_size, jump_prev):\n",
    "    return rf_prev + (kernel_size-1) * jump_prev\n",
    "\n",
    "def calculate(l):\n",
    "    l = [{'rfsz': 1, 'jump': 1}] + l\n",
    "    for i in np.arange(1, len(l)):\n",
    "        l[i]['jump'] = jump_n(l[i-1]['jump'], l[i]['stride'])\n",
    "        l[i]['rfsz'] = receptive_field_size(l[i-1]['rfsz'], l[i]['kernel_size'], l[i-1]['jump'])\n",
    "    return l[1:]"
   ]
  },
  {
   "cell_type": "code",
   "execution_count": 90,
   "metadata": {},
   "outputs": [],
   "source": [
    "# Configuration for each layer\n",
    "l = [{'kernel_size': 4, 'stride':2},\n",
    "     {'kernel_size': 4, 'stride':2},\n",
    "     {'kernel_size': 4, 'stride':2},\n",
    "     {'kernel_size': 4, 'stride':1},\n",
    "     {'kernel_size': 4, 'stride':1},]"
   ]
  },
  {
   "cell_type": "code",
   "execution_count": 91,
   "metadata": {},
   "outputs": [
    {
     "data": {
      "text/plain": [
       "[{'kernel_size': 4, 'stride': 2, 'jump': 2, 'rfsz': 4},\n",
       " {'kernel_size': 4, 'stride': 2, 'jump': 4, 'rfsz': 10},\n",
       " {'kernel_size': 4, 'stride': 2, 'jump': 8, 'rfsz': 22},\n",
       " {'kernel_size': 4, 'stride': 1, 'jump': 8, 'rfsz': 46},\n",
       " {'kernel_size': 4, 'stride': 1, 'jump': 8, 'rfsz': 70}]"
      ]
     },
     "execution_count": 91,
     "metadata": {},
     "output_type": "execute_result"
    }
   ],
   "source": [
    "calculate(l)"
   ]
  },
  {
   "cell_type": "code",
   "execution_count": null,
   "metadata": {},
   "outputs": [],
   "source": []
  }
 ],
 "metadata": {
  "kernelspec": {
   "display_name": "Python 3",
   "language": "python",
   "name": "python3"
  },
  "language_info": {
   "codemirror_mode": {
    "name": "ipython",
    "version": 3
   },
   "file_extension": ".py",
   "mimetype": "text/x-python",
   "name": "python",
   "nbconvert_exporter": "python",
   "pygments_lexer": "ipython3",
   "version": "3.6.8"
  }
 },
 "nbformat": 4,
 "nbformat_minor": 2
}
